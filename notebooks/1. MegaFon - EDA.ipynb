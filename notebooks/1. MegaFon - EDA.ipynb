{
 "cells": [
  {
   "cell_type": "markdown",
   "metadata": {},
   "source": [
    "# Imports"
   ]
  },
  {
   "cell_type": "code",
   "execution_count": 28,
   "metadata": {},
   "outputs": [],
   "source": [
    "# Data Wrangling and Loading\n",
    "import pandas as pd\n",
    "import numpy as np\n",
    "import sqlite3\n",
    "\n",
    "# Common \n",
    "import os\n",
    "from pathlib import Path\n",
    "\n",
    "# Plotting\n",
    "import seaborn as sns\n",
    "import matplotlib.pyplot as plt\n",
    "from IPython.display import display\n",
    "\n",
    "# Modeling\n",
    "from sklearn.model_selection import cross_val_score\n",
    "from sklearn.ensemble import ExtraTreesClassifier"
   ]
  },
  {
   "cell_type": "code",
   "execution_count": 52,
   "metadata": {},
   "outputs": [],
   "source": [
    "sns.set()"
   ]
  },
  {
   "cell_type": "markdown",
   "metadata": {},
   "source": [
    "# Read Data\n",
    "\n",
    "Megafon data stored in SQLite DataBase. Read cleaned version."
   ]
  },
  {
   "cell_type": "code",
   "execution_count": 31,
   "metadata": {},
   "outputs": [
    {
     "name": "stdout",
     "output_type": "stream",
     "text": [
      "<class 'pandas.core.frame.DataFrame'>\n",
      "RangeIndex: 600000 entries, 0 to 599999\n",
      "Columns: 52 entries, X_1 to conversion\n",
      "dtypes: float64(50), int64(2)\n",
      "memory usage: 238.0 MB\n",
      "None\n"
     ]
    },
    {
     "data": {
      "text/html": [
       "<div>\n",
       "<style scoped>\n",
       "    .dataframe tbody tr th:only-of-type {\n",
       "        vertical-align: middle;\n",
       "    }\n",
       "\n",
       "    .dataframe tbody tr th {\n",
       "        vertical-align: top;\n",
       "    }\n",
       "\n",
       "    .dataframe thead th {\n",
       "        text-align: right;\n",
       "    }\n",
       "</style>\n",
       "<table border=\"1\" class=\"dataframe\">\n",
       "  <thead>\n",
       "    <tr style=\"text-align: right;\">\n",
       "      <th></th>\n",
       "      <th>X_1</th>\n",
       "      <th>X_2</th>\n",
       "      <th>X_3</th>\n",
       "      <th>X_4</th>\n",
       "      <th>X_5</th>\n",
       "      <th>X_6</th>\n",
       "      <th>X_7</th>\n",
       "      <th>X_8</th>\n",
       "      <th>X_9</th>\n",
       "      <th>X_10</th>\n",
       "      <th>...</th>\n",
       "      <th>X_43</th>\n",
       "      <th>X_44</th>\n",
       "      <th>X_45</th>\n",
       "      <th>X_46</th>\n",
       "      <th>X_47</th>\n",
       "      <th>X_48</th>\n",
       "      <th>X_49</th>\n",
       "      <th>X_50</th>\n",
       "      <th>treatment_group</th>\n",
       "      <th>conversion</th>\n",
       "    </tr>\n",
       "  </thead>\n",
       "  <tbody>\n",
       "    <tr>\n",
       "      <th>0</th>\n",
       "      <td>39.396577</td>\n",
       "      <td>-0.186548</td>\n",
       "      <td>19.524505</td>\n",
       "      <td>21.250208</td>\n",
       "      <td>55.291264</td>\n",
       "      <td>182.966712</td>\n",
       "      <td>-5.385606</td>\n",
       "      <td>144.573379</td>\n",
       "      <td>-12.534344</td>\n",
       "      <td>-58.279429</td>\n",
       "      <td>...</td>\n",
       "      <td>-213.584582</td>\n",
       "      <td>-2.092461</td>\n",
       "      <td>-93.973258</td>\n",
       "      <td>-0.155597</td>\n",
       "      <td>-312.130733</td>\n",
       "      <td>44.798182</td>\n",
       "      <td>-125.682413</td>\n",
       "      <td>16.231365</td>\n",
       "      <td>0</td>\n",
       "      <td>0</td>\n",
       "    </tr>\n",
       "    <tr>\n",
       "      <th>1</th>\n",
       "      <td>38.987694</td>\n",
       "      <td>0.819522</td>\n",
       "      <td>-42.064512</td>\n",
       "      <td>-48.270949</td>\n",
       "      <td>-33.171257</td>\n",
       "      <td>179.459341</td>\n",
       "      <td>-87.151810</td>\n",
       "      <td>-162.693257</td>\n",
       "      <td>20.651652</td>\n",
       "      <td>181.635081</td>\n",
       "      <td>...</td>\n",
       "      <td>559.783584</td>\n",
       "      <td>1.142391</td>\n",
       "      <td>80.037124</td>\n",
       "      <td>-1.216185</td>\n",
       "      <td>-111.473936</td>\n",
       "      <td>-127.737977</td>\n",
       "      <td>-117.501171</td>\n",
       "      <td>10.732234</td>\n",
       "      <td>0</td>\n",
       "      <td>0</td>\n",
       "    </tr>\n",
       "    <tr>\n",
       "      <th>2</th>\n",
       "      <td>-16.693093</td>\n",
       "      <td>1.844558</td>\n",
       "      <td>-8.615192</td>\n",
       "      <td>-18.818740</td>\n",
       "      <td>-22.271188</td>\n",
       "      <td>-116.290369</td>\n",
       "      <td>-63.816746</td>\n",
       "      <td>-38.340763</td>\n",
       "      <td>24.968496</td>\n",
       "      <td>-136.340629</td>\n",
       "      <td>...</td>\n",
       "      <td>96.998504</td>\n",
       "      <td>1.100962</td>\n",
       "      <td>-33.275159</td>\n",
       "      <td>0.920926</td>\n",
       "      <td>-679.492242</td>\n",
       "      <td>-91.009397</td>\n",
       "      <td>-18.173358</td>\n",
       "      <td>14.367636</td>\n",
       "      <td>1</td>\n",
       "      <td>0</td>\n",
       "    </tr>\n",
       "    <tr>\n",
       "      <th>3</th>\n",
       "      <td>-72.040154</td>\n",
       "      <td>-0.226921</td>\n",
       "      <td>39.802607</td>\n",
       "      <td>16.441262</td>\n",
       "      <td>-1.112509</td>\n",
       "      <td>68.128008</td>\n",
       "      <td>23.073147</td>\n",
       "      <td>4.688858</td>\n",
       "      <td>-49.383641</td>\n",
       "      <td>-91.866107</td>\n",
       "      <td>...</td>\n",
       "      <td>-323.642557</td>\n",
       "      <td>-0.369182</td>\n",
       "      <td>93.221948</td>\n",
       "      <td>-1.962380</td>\n",
       "      <td>-442.466684</td>\n",
       "      <td>-22.298302</td>\n",
       "      <td>-75.916603</td>\n",
       "      <td>11.634299</td>\n",
       "      <td>1</td>\n",
       "      <td>0</td>\n",
       "    </tr>\n",
       "    <tr>\n",
       "      <th>4</th>\n",
       "      <td>18.296973</td>\n",
       "      <td>0.996437</td>\n",
       "      <td>24.465307</td>\n",
       "      <td>-34.151971</td>\n",
       "      <td>24.623458</td>\n",
       "      <td>-155.455558</td>\n",
       "      <td>-12.159787</td>\n",
       "      <td>26.705778</td>\n",
       "      <td>105.864805</td>\n",
       "      <td>258.607252</td>\n",
       "      <td>...</td>\n",
       "      <td>118.902324</td>\n",
       "      <td>-0.808578</td>\n",
       "      <td>-117.497906</td>\n",
       "      <td>1.770635</td>\n",
       "      <td>627.395611</td>\n",
       "      <td>122.019189</td>\n",
       "      <td>194.091195</td>\n",
       "      <td>-11.883858</td>\n",
       "      <td>1</td>\n",
       "      <td>0</td>\n",
       "    </tr>\n",
       "  </tbody>\n",
       "</table>\n",
       "<p>5 rows × 52 columns</p>\n",
       "</div>"
      ],
      "text/plain": [
       "         X_1       X_2        X_3        X_4        X_5         X_6  \\\n",
       "0  39.396577 -0.186548  19.524505  21.250208  55.291264  182.966712   \n",
       "1  38.987694  0.819522 -42.064512 -48.270949 -33.171257  179.459341   \n",
       "2 -16.693093  1.844558  -8.615192 -18.818740 -22.271188 -116.290369   \n",
       "3 -72.040154 -0.226921  39.802607  16.441262  -1.112509   68.128008   \n",
       "4  18.296973  0.996437  24.465307 -34.151971  24.623458 -155.455558   \n",
       "\n",
       "         X_7         X_8         X_9        X_10  ...        X_43      X_44  \\\n",
       "0  -5.385606  144.573379  -12.534344  -58.279429  ... -213.584582 -2.092461   \n",
       "1 -87.151810 -162.693257   20.651652  181.635081  ...  559.783584  1.142391   \n",
       "2 -63.816746  -38.340763   24.968496 -136.340629  ...   96.998504  1.100962   \n",
       "3  23.073147    4.688858  -49.383641  -91.866107  ... -323.642557 -0.369182   \n",
       "4 -12.159787   26.705778  105.864805  258.607252  ...  118.902324 -0.808578   \n",
       "\n",
       "         X_45      X_46        X_47        X_48        X_49       X_50  \\\n",
       "0  -93.973258 -0.155597 -312.130733   44.798182 -125.682413  16.231365   \n",
       "1   80.037124 -1.216185 -111.473936 -127.737977 -117.501171  10.732234   \n",
       "2  -33.275159  0.920926 -679.492242  -91.009397  -18.173358  14.367636   \n",
       "3   93.221948 -1.962380 -442.466684  -22.298302  -75.916603  11.634299   \n",
       "4 -117.497906  1.770635  627.395611  122.019189  194.091195 -11.883858   \n",
       "\n",
       "   treatment_group  conversion  \n",
       "0                0           0  \n",
       "1                0           0  \n",
       "2                1           0  \n",
       "3                1           0  \n",
       "4                1           0  \n",
       "\n",
       "[5 rows x 52 columns]"
      ]
     },
     "execution_count": 31,
     "metadata": {},
     "output_type": "execute_result"
    }
   ],
   "source": [
    "db_url = os.environ[\"DATABASE_URL\"] \n",
    "with sqlite3.connect(f'../{db_url}') as conn:\n",
    "    query = 'SELECT * FROM megafon_processed'\n",
    "    df = pd.read_sql(query, conn)\n",
    "\n",
    "print(df.info(verbose=False))\n",
    "df.head()"
   ]
  },
  {
   "cell_type": "markdown",
   "metadata": {},
   "source": [
    "Split columns to different categories:\n",
    "1. Features;\n",
    "2. Target;\n",
    "3. Treatment."
   ]
  },
  {
   "cell_type": "code",
   "execution_count": 37,
   "metadata": {},
   "outputs": [],
   "source": [
    "target = 'conversion'\n",
    "treatment = 'treatment_group'\n",
    "not_features = [target, treatment]\n",
    "features = df.columns.difference(not_features).to_list()\n",
    "\n",
    "# Sort features because sqlite returns columns at random order\n",
    "features = sorted(features, key=lambda x: int(x.lstrip('X_')))\n",
    "\n",
    "assert len(not_features + features) == len(df.columns), 'sanity check'"
   ]
  },
  {
   "cell_type": "markdown",
   "metadata": {},
   "source": [
    "Lets look at datatype of features."
   ]
  },
  {
   "cell_type": "code",
   "execution_count": 38,
   "metadata": {},
   "outputs": [
    {
     "data": {
      "text/plain": [
       "attrubute_type  data_type\n",
       "feature         float64      50\n",
       "not_feature     int64         2\n",
       "dtype: int64"
      ]
     },
     "execution_count": 38,
     "metadata": {},
     "output_type": "execute_result"
    }
   ],
   "source": [
    "mapper = {**dict.fromkeys(features, 'feature'), **dict.fromkeys(not_features, 'not_feature')}\n",
    "feature_dtypes = df.dtypes\n",
    "feature_dtypes.index = feature_dtypes.index.map(mapper)\n",
    "feature_dtypes = feature_dtypes.reset_index().set_axis(['attrubute_type', 'data_type'], axis=1)\n",
    "feature_dtypes.value_counts()"
   ]
  },
  {
   "cell_type": "markdown",
   "metadata": {},
   "source": [
    "There are only numerical features in dataset that are anonymised, probably using method like PCA."
   ]
  },
  {
   "cell_type": "markdown",
   "metadata": {},
   "source": [
    "# Exploratory Data Analysis\n",
    "\n",
    "Goals:\n",
    "\n",
    "1. Explore relationship between target and treatment features;\n",
    "2. Explore features (descriptive statistics, relationship);\n",
    "3. Explore dependencies between target and features (correlations and etc)."
   ]
  },
  {
   "cell_type": "markdown",
   "metadata": {},
   "source": [
    "## Target and Treatment features Analysis\n",
    "\n",
    "### Target share for Treatment/Control groups."
   ]
  },
  {
   "cell_type": "code",
   "execution_count": 27,
   "metadata": {},
   "outputs": [
    {
     "data": {
      "text/html": [
       "<div>\n",
       "<style scoped>\n",
       "    .dataframe tbody tr th:only-of-type {\n",
       "        vertical-align: middle;\n",
       "    }\n",
       "\n",
       "    .dataframe tbody tr th {\n",
       "        vertical-align: top;\n",
       "    }\n",
       "\n",
       "    .dataframe thead th {\n",
       "        text-align: right;\n",
       "    }\n",
       "</style>\n",
       "<table border=\"1\" class=\"dataframe\">\n",
       "  <thead>\n",
       "    <tr style=\"text-align: right;\">\n",
       "      <th>treatment_group</th>\n",
       "      <th>0</th>\n",
       "      <th>1</th>\n",
       "      <th>All</th>\n",
       "    </tr>\n",
       "    <tr>\n",
       "      <th>conversion</th>\n",
       "      <th></th>\n",
       "      <th></th>\n",
       "      <th></th>\n",
       "    </tr>\n",
       "  </thead>\n",
       "  <tbody>\n",
       "    <tr>\n",
       "      <th>0</th>\n",
       "      <td>245878</td>\n",
       "      <td>231608</td>\n",
       "      <td>477486</td>\n",
       "    </tr>\n",
       "    <tr>\n",
       "      <th>1</th>\n",
       "      <td>53754</td>\n",
       "      <td>68760</td>\n",
       "      <td>122514</td>\n",
       "    </tr>\n",
       "    <tr>\n",
       "      <th>All</th>\n",
       "      <td>299632</td>\n",
       "      <td>300368</td>\n",
       "      <td>600000</td>\n",
       "    </tr>\n",
       "  </tbody>\n",
       "</table>\n",
       "</div>"
      ],
      "text/plain": [
       "treatment_group       0       1     All\n",
       "conversion                             \n",
       "0                245878  231608  477486\n",
       "1                 53754   68760  122514\n",
       "All              299632  300368  600000"
      ]
     },
     "metadata": {},
     "output_type": "display_data"
    },
    {
     "data": {
      "text/html": [
       "<div>\n",
       "<style scoped>\n",
       "    .dataframe tbody tr th:only-of-type {\n",
       "        vertical-align: middle;\n",
       "    }\n",
       "\n",
       "    .dataframe tbody tr th {\n",
       "        vertical-align: top;\n",
       "    }\n",
       "\n",
       "    .dataframe thead th {\n",
       "        text-align: right;\n",
       "    }\n",
       "</style>\n",
       "<table border=\"1\" class=\"dataframe\">\n",
       "  <thead>\n",
       "    <tr style=\"text-align: right;\">\n",
       "      <th>treatment_group</th>\n",
       "      <th>0</th>\n",
       "      <th>1</th>\n",
       "      <th>All</th>\n",
       "    </tr>\n",
       "    <tr>\n",
       "      <th>conversion</th>\n",
       "      <th></th>\n",
       "      <th></th>\n",
       "      <th></th>\n",
       "    </tr>\n",
       "  </thead>\n",
       "  <tbody>\n",
       "    <tr>\n",
       "      <th>0</th>\n",
       "      <td>0.41</td>\n",
       "      <td>0.39</td>\n",
       "      <td>0.8</td>\n",
       "    </tr>\n",
       "    <tr>\n",
       "      <th>1</th>\n",
       "      <td>0.09</td>\n",
       "      <td>0.11</td>\n",
       "      <td>0.2</td>\n",
       "    </tr>\n",
       "    <tr>\n",
       "      <th>All</th>\n",
       "      <td>0.50</td>\n",
       "      <td>0.50</td>\n",
       "      <td>1.0</td>\n",
       "    </tr>\n",
       "  </tbody>\n",
       "</table>\n",
       "</div>"
      ],
      "text/plain": [
       "treatment_group     0     1  All\n",
       "conversion                      \n",
       "0                0.41  0.39  0.8\n",
       "1                0.09  0.11  0.2\n",
       "All              0.50  0.50  1.0"
      ]
     },
     "metadata": {},
     "output_type": "display_data"
    },
    {
     "data": {
      "text/html": [
       "<div>\n",
       "<style scoped>\n",
       "    .dataframe tbody tr th:only-of-type {\n",
       "        vertical-align: middle;\n",
       "    }\n",
       "\n",
       "    .dataframe tbody tr th {\n",
       "        vertical-align: top;\n",
       "    }\n",
       "\n",
       "    .dataframe thead th {\n",
       "        text-align: right;\n",
       "    }\n",
       "</style>\n",
       "<table border=\"1\" class=\"dataframe\">\n",
       "  <thead>\n",
       "    <tr style=\"text-align: right;\">\n",
       "      <th>treatment_group</th>\n",
       "      <th>0</th>\n",
       "      <th>1</th>\n",
       "      <th>All</th>\n",
       "    </tr>\n",
       "    <tr>\n",
       "      <th>conversion</th>\n",
       "      <th></th>\n",
       "      <th></th>\n",
       "      <th></th>\n",
       "    </tr>\n",
       "  </thead>\n",
       "  <tbody>\n",
       "    <tr>\n",
       "      <th>0</th>\n",
       "      <td>0.82</td>\n",
       "      <td>0.77</td>\n",
       "      <td>0.8</td>\n",
       "    </tr>\n",
       "    <tr>\n",
       "      <th>1</th>\n",
       "      <td>0.18</td>\n",
       "      <td>0.23</td>\n",
       "      <td>0.2</td>\n",
       "    </tr>\n",
       "  </tbody>\n",
       "</table>\n",
       "</div>"
      ],
      "text/plain": [
       "treatment_group     0     1  All\n",
       "conversion                      \n",
       "0                0.82  0.77  0.8\n",
       "1                0.18  0.23  0.2"
      ]
     },
     "metadata": {},
     "output_type": "display_data"
    },
    {
     "data": {
      "text/html": [
       "<div>\n",
       "<style scoped>\n",
       "    .dataframe tbody tr th:only-of-type {\n",
       "        vertical-align: middle;\n",
       "    }\n",
       "\n",
       "    .dataframe tbody tr th {\n",
       "        vertical-align: top;\n",
       "    }\n",
       "\n",
       "    .dataframe thead th {\n",
       "        text-align: right;\n",
       "    }\n",
       "</style>\n",
       "<table border=\"1\" class=\"dataframe\">\n",
       "  <thead>\n",
       "    <tr style=\"text-align: right;\">\n",
       "      <th>treatment_group</th>\n",
       "      <th>0</th>\n",
       "      <th>1</th>\n",
       "    </tr>\n",
       "    <tr>\n",
       "      <th>conversion</th>\n",
       "      <th></th>\n",
       "      <th></th>\n",
       "    </tr>\n",
       "  </thead>\n",
       "  <tbody>\n",
       "    <tr>\n",
       "      <th>0</th>\n",
       "      <td>0.51</td>\n",
       "      <td>0.49</td>\n",
       "    </tr>\n",
       "    <tr>\n",
       "      <th>1</th>\n",
       "      <td>0.44</td>\n",
       "      <td>0.56</td>\n",
       "    </tr>\n",
       "    <tr>\n",
       "      <th>All</th>\n",
       "      <td>0.50</td>\n",
       "      <td>0.50</td>\n",
       "    </tr>\n",
       "  </tbody>\n",
       "</table>\n",
       "</div>"
      ],
      "text/plain": [
       "treatment_group     0     1\n",
       "conversion                 \n",
       "0                0.51  0.49\n",
       "1                0.44  0.56\n",
       "All              0.50  0.50"
      ]
     },
     "metadata": {},
     "output_type": "display_data"
    }
   ],
   "source": [
    "normalize_opt = [False, 'all', 'columns', 'index']\n",
    "freq_tables = [\n",
    "    pd.crosstab(df[target], df[treatment], margins=True, normalize=opt).round(2)\n",
    "    for opt in normalize_opt\n",
    "    ]\n",
    "\n",
    "display(*freq_tables)"
   ]
  },
  {
   "cell_type": "markdown",
   "metadata": {},
   "source": [
    "- There are target class imbalance;\n",
    "- Treatment and Control group sizes are same."
   ]
  },
  {
   "cell_type": "markdown",
   "metadata": {},
   "source": [
    "### Conditional Independence Assumption\n",
    "\n",
    "Lets check that treatment and control group splitted at random using Adversal Validation method."
   ]
  },
  {
   "cell_type": "code",
   "execution_count": 30,
   "metadata": {},
   "outputs": [
    {
     "name": "stdout",
     "output_type": "stream",
     "text": [
      "Adversal Validaton Roc Auc: 50.04%\n"
     ]
    }
   ],
   "source": [
    "cv_scores = cross_val_score(\n",
    "    ExtraTreesClassifier(n_estimators=20, n_jobs=-1, random_state=2022), \n",
    "    df[features], df[treatment], \n",
    "    scoring='roc_auc', cv=3\n",
    "    )\n",
    "\n",
    "cv_scores = cv_scores.mean()\n",
    "print(f'Adversal Validaton Roc Auc: {cv_scores:.2%}')"
   ]
  },
  {
   "cell_type": "markdown",
   "metadata": {},
   "source": [
    "Based on features classifier cannot distinguish between treatment and control groups. That means that communication was carried out by random."
   ]
  },
  {
   "cell_type": "markdown",
   "metadata": {},
   "source": [
    "## Feature Analysis"
   ]
  },
  {
   "cell_type": "markdown",
   "metadata": {},
   "source": [
    "### Check for null values"
   ]
  },
  {
   "cell_type": "code",
   "execution_count": null,
   "metadata": {},
   "outputs": [
    {
     "data": {
      "text/plain": [
       "num_null     0.0\n",
       "perc_null    0.0\n",
       "dtype: float64"
      ]
     },
     "execution_count": 42,
     "metadata": {},
     "output_type": "execute_result"
    }
   ],
   "source": [
    "null_values_freq = (\n",
    "    df[features].isna().sum().to_frame('num_null')\n",
    "    .assign(perc_null=lambda x: x['num_null']/len(df))\n",
    "    .mean()\n",
    ")\n",
    "\n",
    "null_values_freq"
   ]
  },
  {
   "cell_type": "markdown",
   "metadata": {},
   "source": [
    "Dataset contains no null values."
   ]
  },
  {
   "cell_type": "markdown",
   "metadata": {},
   "source": [
    "### Descriptive statistics"
   ]
  },
  {
   "cell_type": "code",
   "execution_count": 69,
   "metadata": {},
   "outputs": [],
   "source": [
    "descriptive_stats = df[features].describe()\n",
    "\n",
    "plot_df = descriptive_stats.T.drop(columns=['count'])\n",
    "plot_df.index = plot_df.index.str.lstrip('X_').astype('int')\n",
    "plot_df = plot_df.reset_index().rename(columns={'index': '# feature'})\n",
    "plot_df = plot_df.melt(id_vars=['# feature'])"
   ]
  },
  {
   "cell_type": "code",
   "execution_count": 80,
   "metadata": {},
   "outputs": [],
   "source": [
    "plot_df['sign'] = (\n",
    "    plot_df['value']\n",
    "    .mask(plot_df['value'].gt(0), 'Positive')\n",
    "    .mask(plot_df['value'].eq(0), 'Zero')\n",
    "    .mask(plot_df['value'].lt(0), 'Negative')\n",
    ")"
   ]
  },
  {
   "cell_type": "code",
   "execution_count": 82,
   "metadata": {},
   "outputs": [
    {
     "data": {
      "image/png": "[encoded data removed]",
      "text/plain": [
       "<Figure size 2115.12x1000 with 7 Axes>"
      ]
     },
     "metadata": {},
     "output_type": "display_data"
    }
   ],
   "source": [
    "col_order = ['mean', 'std', 'min', 'max', '25%', '50%', '75%']\n",
    "facet = sns.relplot(\n",
    "    data=plot_df, x='# feature', y='value', hue='sign', \n",
    "    col='variable', col_wrap=4, col_order=col_order, \n",
    "    facet_kws={'sharey': False, 'sharex': False}\n",
    "    )\n",
    "\n",
    "facet.set_titles('Statistic = {col_name}');"
   ]
  },
  {
   "cell_type": "markdown",
   "metadata": {},
   "source": [
    "# Validation Schema"
   ]
  },
  {
   "cell_type": "code",
   "execution_count": 60,
   "metadata": {},
   "outputs": [],
   "source": [
    "df[treatment] = df[treatment].eq('treatment').astype('int')"
   ]
  },
  {
   "cell_type": "code",
   "execution_count": 61,
   "metadata": {},
   "outputs": [],
   "source": [
    "train_idx, test_idx = train_test_split(df.index, test_size=0.2, stratify=df[[target, treatment]], random_state=2022)\n",
    "\n",
    "X_train, y_train, treatment_train = df.loc[train_idx, features], df.loc[train_idx, target], df.loc[train_idx, treatment] \n",
    "X_test, y_test, treatment_test = df.loc[test_idx, features], df.loc[test_idx, target], df.loc[test_idx, treatment]"
   ]
  },
  {
   "cell_type": "markdown",
   "metadata": {},
   "source": [
    "# Modeling"
   ]
  },
  {
   "cell_type": "code",
   "execution_count": 62,
   "metadata": {},
   "outputs": [],
   "source": [
    "rf_model = RandomForestClassifier(max_depth=8, min_samples_leaf=124, random_state=2022)\n",
    "ct_model = ClassTransformation(rf_model)"
   ]
  },
  {
   "cell_type": "code",
   "execution_count": 63,
   "metadata": {},
   "outputs": [
    {
     "data": {
      "text/html": [
       "<style>#sk-container-id-1 {color: black;background-color: white;}#sk-container-id-1 pre{padding: 0;}#sk-container-id-1 div.sk-toggleable {background-color: white;}#sk-container-id-1 label.sk-toggleable__label {cursor: pointer;display: block;width: 100%;margin-bottom: 0;padding: 0.3em;box-sizing: border-box;text-align: center;}#sk-container-id-1 label.sk-toggleable__label-arrow:before {content: \"▸\";float: left;margin-right: 0.25em;color: #696969;}#sk-container-id-1 label.sk-toggleable__label-arrow:hover:before {color: black;}#sk-container-id-1 div.sk-estimator:hover label.sk-toggleable__label-arrow:before {color: black;}#sk-container-id-1 div.sk-toggleable__content {max-height: 0;max-width: 0;overflow: hidden;text-align: left;background-color: #f0f8ff;}#sk-container-id-1 div.sk-toggleable__content pre {margin: 0.2em;color: black;border-radius: 0.25em;background-color: #f0f8ff;}#sk-container-id-1 input.sk-toggleable__control:checked~div.sk-toggleable__content {max-height: 200px;max-width: 100%;overflow: auto;}#sk-container-id-1 input.sk-toggleable__control:checked~label.sk-toggleable__label-arrow:before {content: \"▾\";}#sk-container-id-1 div.sk-estimator input.sk-toggleable__control:checked~label.sk-toggleable__label {background-color: #d4ebff;}#sk-container-id-1 div.sk-label input.sk-toggleable__control:checked~label.sk-toggleable__label {background-color: #d4ebff;}#sk-container-id-1 input.sk-hidden--visually {border: 0;clip: rect(1px 1px 1px 1px);clip: rect(1px, 1px, 1px, 1px);height: 1px;margin: -1px;overflow: hidden;padding: 0;position: absolute;width: 1px;}#sk-container-id-1 div.sk-estimator {font-family: monospace;background-color: #f0f8ff;border: 1px dotted black;border-radius: 0.25em;box-sizing: border-box;margin-bottom: 0.5em;}#sk-container-id-1 div.sk-estimator:hover {background-color: #d4ebff;}#sk-container-id-1 div.sk-parallel-item::after {content: \"\";width: 100%;border-bottom: 1px solid gray;flex-grow: 1;}#sk-container-id-1 div.sk-label:hover label.sk-toggleable__label {background-color: #d4ebff;}#sk-container-id-1 div.sk-serial::before {content: \"\";position: absolute;border-left: 1px solid gray;box-sizing: border-box;top: 0;bottom: 0;left: 50%;z-index: 0;}#sk-container-id-1 div.sk-serial {display: flex;flex-direction: column;align-items: center;background-color: white;padding-right: 0.2em;padding-left: 0.2em;position: relative;}#sk-container-id-1 div.sk-item {position: relative;z-index: 1;}#sk-container-id-1 div.sk-parallel {display: flex;align-items: stretch;justify-content: center;background-color: white;position: relative;}#sk-container-id-1 div.sk-item::before, #sk-container-id-1 div.sk-parallel-item::before {content: \"\";position: absolute;border-left: 1px solid gray;box-sizing: border-box;top: 0;bottom: 0;left: 50%;z-index: -1;}#sk-container-id-1 div.sk-parallel-item {display: flex;flex-direction: column;z-index: 1;position: relative;background-color: white;}#sk-container-id-1 div.sk-parallel-item:first-child::after {align-self: flex-end;width: 50%;}#sk-container-id-1 div.sk-parallel-item:last-child::after {align-self: flex-start;width: 50%;}#sk-container-id-1 div.sk-parallel-item:only-child::after {width: 0;}#sk-container-id-1 div.sk-dashed-wrapped {border: 1px dashed gray;margin: 0 0.4em 0.5em 0.4em;box-sizing: border-box;padding-bottom: 0.4em;background-color: white;}#sk-container-id-1 div.sk-label label {font-family: monospace;font-weight: bold;display: inline-block;line-height: 1.2em;}#sk-container-id-1 div.sk-label-container {text-align: center;}#sk-container-id-1 div.sk-container {/* jupyter's `normalize.less` sets `[hidden] { display: none; }` but bootstrap.min.css set `[hidden] { display: none !important; }` so we also need the `!important` here to be able to override the default hidden behavior on the sphinx rendered scikit-learn.org. See: https://github.com/scikit-learn/scikit-learn/issues/21755 */display: inline-block !important;position: relative;}#sk-container-id-1 div.sk-text-repr-fallback {display: none;}</style><div id=\"sk-container-id-1\" class=\"sk-top-container\"><div class=\"sk-text-repr-fallback\"><pre>ClassTransformation(estimator=RandomForestClassifier(max_depth=8,\n",
       "                                                     min_samples_leaf=124,\n",
       "                                                     random_state=2022))</pre><b>In a Jupyter environment, please rerun this cell to show the HTML representation or trust the notebook. <br />On GitHub, the HTML representation is unable to render, please try loading this page with nbviewer.org.</b></div><div class=\"sk-container\" hidden><div class=\"sk-item sk-dashed-wrapped\"><div class=\"sk-label-container\"><div class=\"sk-label sk-toggleable\"><input class=\"sk-toggleable__control sk-hidden--visually\" id=\"sk-estimator-id-1\" type=\"checkbox\" ><label for=\"sk-estimator-id-1\" class=\"sk-toggleable__label sk-toggleable__label-arrow\">ClassTransformation</label><div class=\"sk-toggleable__content\"><pre>ClassTransformation(estimator=RandomForestClassifier(max_depth=8,\n",
       "                                                     min_samples_leaf=124,\n",
       "                                                     random_state=2022))</pre></div></div></div><div class=\"sk-parallel\"><div class=\"sk-parallel-item\"><div class=\"sk-item\"><div class=\"sk-label-container\"><div class=\"sk-label sk-toggleable\"><input class=\"sk-toggleable__control sk-hidden--visually\" id=\"sk-estimator-id-2\" type=\"checkbox\" ><label for=\"sk-estimator-id-2\" class=\"sk-toggleable__label sk-toggleable__label-arrow\">estimator: RandomForestClassifier</label><div class=\"sk-toggleable__content\"><pre>RandomForestClassifier(max_depth=8, min_samples_leaf=124, random_state=2022)</pre></div></div></div><div class=\"sk-serial\"><div class=\"sk-item\"><div class=\"sk-estimator sk-toggleable\"><input class=\"sk-toggleable__control sk-hidden--visually\" id=\"sk-estimator-id-3\" type=\"checkbox\" ><label for=\"sk-estimator-id-3\" class=\"sk-toggleable__label sk-toggleable__label-arrow\">RandomForestClassifier</label><div class=\"sk-toggleable__content\"><pre>RandomForestClassifier(max_depth=8, min_samples_leaf=124, random_state=2022)</pre></div></div></div></div></div></div></div></div></div></div>"
      ],
      "text/plain": [
       "ClassTransformation(estimator=RandomForestClassifier(max_depth=8,\n",
       "                                                     min_samples_leaf=124,\n",
       "                                                     random_state=2022))"
      ]
     },
     "execution_count": 63,
     "metadata": {},
     "output_type": "execute_result"
    }
   ],
   "source": [
    "ct_model.fit(X_train, y_train, treatment_train)"
   ]
  },
  {
   "cell_type": "markdown",
   "metadata": {},
   "source": [
    "# Evaluation"
   ]
  },
  {
   "cell_type": "code",
   "execution_count": 99,
   "metadata": {},
   "outputs": [
    {
     "name": "stderr",
     "output_type": "stream",
     "text": [
      "/Users/alexwest/opt/miniconda3/lib/python3.9/site-packages/numpy/core/fromnumeric.py:3156: VisibleDeprecationWarning: Creating an ndarray from ragged nested sequences (which is a list-or-tuple of lists-or-tuples-or ndarrays with different lengths or shapes) is deprecated. If you meant to do this, you must specify 'dtype=object' when creating the ndarray.\n",
      "  return asarray(a).ndim\n"
     ]
    },
    {
     "data": {
      "text/html": [
       "<div>\n",
       "<style scoped>\n",
       "    .dataframe tbody tr th:only-of-type {\n",
       "        vertical-align: middle;\n",
       "    }\n",
       "\n",
       "    .dataframe tbody tr th {\n",
       "        vertical-align: top;\n",
       "    }\n",
       "\n",
       "    .dataframe thead th {\n",
       "        text-align: right;\n",
       "    }\n",
       "</style>\n",
       "<table border=\"1\" class=\"dataframe\">\n",
       "  <thead>\n",
       "    <tr style=\"text-align: right;\">\n",
       "      <th></th>\n",
       "      <th>n_treatment</th>\n",
       "      <th>n_control</th>\n",
       "      <th>response_rate_treatment</th>\n",
       "      <th>response_rate_control</th>\n",
       "      <th>uplift</th>\n",
       "    </tr>\n",
       "    <tr>\n",
       "      <th>percentile</th>\n",
       "      <th></th>\n",
       "      <th></th>\n",
       "      <th></th>\n",
       "      <th></th>\n",
       "      <th></th>\n",
       "    </tr>\n",
       "  </thead>\n",
       "  <tbody>\n",
       "    <tr>\n",
       "      <th>0-10</th>\n",
       "      <td>6081</td>\n",
       "      <td>5919</td>\n",
       "      <td>0.416708</td>\n",
       "      <td>0.162190</td>\n",
       "      <td>0.254518</td>\n",
       "    </tr>\n",
       "    <tr>\n",
       "      <th>10-20</th>\n",
       "      <td>5960</td>\n",
       "      <td>6040</td>\n",
       "      <td>0.285906</td>\n",
       "      <td>0.163576</td>\n",
       "      <td>0.122330</td>\n",
       "    </tr>\n",
       "    <tr>\n",
       "      <th>20-30</th>\n",
       "      <td>5993</td>\n",
       "      <td>6007</td>\n",
       "      <td>0.282997</td>\n",
       "      <td>0.174963</td>\n",
       "      <td>0.108034</td>\n",
       "    </tr>\n",
       "    <tr>\n",
       "      <th>30-40</th>\n",
       "      <td>6048</td>\n",
       "      <td>5952</td>\n",
       "      <td>0.279101</td>\n",
       "      <td>0.164147</td>\n",
       "      <td>0.114954</td>\n",
       "    </tr>\n",
       "    <tr>\n",
       "      <th>40-50</th>\n",
       "      <td>5957</td>\n",
       "      <td>6043</td>\n",
       "      <td>0.257009</td>\n",
       "      <td>0.154063</td>\n",
       "      <td>0.102946</td>\n",
       "    </tr>\n",
       "    <tr>\n",
       "      <th>50-60</th>\n",
       "      <td>6042</td>\n",
       "      <td>5958</td>\n",
       "      <td>0.208540</td>\n",
       "      <td>0.150386</td>\n",
       "      <td>0.058154</td>\n",
       "    </tr>\n",
       "    <tr>\n",
       "      <th>60-70</th>\n",
       "      <td>5944</td>\n",
       "      <td>6056</td>\n",
       "      <td>0.180855</td>\n",
       "      <td>0.163970</td>\n",
       "      <td>0.016885</td>\n",
       "    </tr>\n",
       "    <tr>\n",
       "      <th>70-80</th>\n",
       "      <td>6018</td>\n",
       "      <td>5982</td>\n",
       "      <td>0.183283</td>\n",
       "      <td>0.204948</td>\n",
       "      <td>-0.021665</td>\n",
       "    </tr>\n",
       "    <tr>\n",
       "      <th>80-90</th>\n",
       "      <td>5999</td>\n",
       "      <td>6001</td>\n",
       "      <td>0.129188</td>\n",
       "      <td>0.238460</td>\n",
       "      <td>-0.109272</td>\n",
       "    </tr>\n",
       "    <tr>\n",
       "      <th>90-100</th>\n",
       "      <td>6032</td>\n",
       "      <td>5968</td>\n",
       "      <td>0.063992</td>\n",
       "      <td>0.217493</td>\n",
       "      <td>-0.153501</td>\n",
       "    </tr>\n",
       "    <tr>\n",
       "      <th>total</th>\n",
       "      <td>60074</td>\n",
       "      <td>59926</td>\n",
       "      <td>0.228918</td>\n",
       "      <td>0.179405</td>\n",
       "      <td>0.049513</td>\n",
       "    </tr>\n",
       "  </tbody>\n",
       "</table>\n",
       "</div>"
      ],
      "text/plain": [
       "            n_treatment  n_control  response_rate_treatment  \\\n",
       "percentile                                                    \n",
       "0-10               6081       5919                 0.416708   \n",
       "10-20              5960       6040                 0.285906   \n",
       "20-30              5993       6007                 0.282997   \n",
       "30-40              6048       5952                 0.279101   \n",
       "40-50              5957       6043                 0.257009   \n",
       "50-60              6042       5958                 0.208540   \n",
       "60-70              5944       6056                 0.180855   \n",
       "70-80              6018       5982                 0.183283   \n",
       "80-90              5999       6001                 0.129188   \n",
       "90-100             6032       5968                 0.063992   \n",
       "total             60074      59926                 0.228918   \n",
       "\n",
       "            response_rate_control    uplift  \n",
       "percentile                                   \n",
       "0-10                     0.162190  0.254518  \n",
       "10-20                    0.163576  0.122330  \n",
       "20-30                    0.174963  0.108034  \n",
       "30-40                    0.164147  0.114954  \n",
       "40-50                    0.154063  0.102946  \n",
       "50-60                    0.150386  0.058154  \n",
       "60-70                    0.163970  0.016885  \n",
       "70-80                    0.204948 -0.021665  \n",
       "80-90                    0.238460 -0.109272  \n",
       "90-100                   0.217493 -0.153501  \n",
       "total                    0.179405  0.049513  "
      ]
     },
     "execution_count": 99,
     "metadata": {},
     "output_type": "execute_result"
    }
   ],
   "source": [
    "y_uplift_pred = ct_model.predict(X_test)\n",
    "\n",
    "uplift_table = uplift_by_percentile(y_test, y_uplift_pred, treatment_test, bins=10, total=True)\n",
    "uplift_table"
   ]
  },
  {
   "cell_type": "code",
   "execution_count": 83,
   "metadata": {},
   "outputs": [],
   "source": [
    "quantiles = pd.qcut(y_uplift_pred, 10)\n",
    "y_pred_df = pd.concat([y_test.to_frame(), treatment_test.to_frame()], axis=1)\n",
    "y_pred_df['quantiles'] = quantiles"
   ]
  },
  {
   "cell_type": "code",
   "execution_count": 92,
   "metadata": {},
   "outputs": [
    {
     "data": {
      "text/html": [
       "<div>\n",
       "<style scoped>\n",
       "    .dataframe tbody tr th:only-of-type {\n",
       "        vertical-align: middle;\n",
       "    }\n",
       "\n",
       "    .dataframe tbody tr th {\n",
       "        vertical-align: top;\n",
       "    }\n",
       "\n",
       "    .dataframe thead th {\n",
       "        text-align: right;\n",
       "    }\n",
       "</style>\n",
       "<table border=\"1\" class=\"dataframe\">\n",
       "  <thead>\n",
       "    <tr style=\"text-align: right;\">\n",
       "      <th>treatment_group</th>\n",
       "      <th>0</th>\n",
       "      <th>1</th>\n",
       "    </tr>\n",
       "    <tr>\n",
       "      <th>quantiles</th>\n",
       "      <th></th>\n",
       "      <th></th>\n",
       "    </tr>\n",
       "  </thead>\n",
       "  <tbody>\n",
       "    <tr>\n",
       "      <th>(-0.229, -0.0121]</th>\n",
       "      <td>0.217493</td>\n",
       "      <td>0.063992</td>\n",
       "    </tr>\n",
       "    <tr>\n",
       "      <th>(-0.0121, 0.0288]</th>\n",
       "      <td>0.238460</td>\n",
       "      <td>0.129188</td>\n",
       "    </tr>\n",
       "    <tr>\n",
       "      <th>(0.0288, 0.0378]</th>\n",
       "      <td>0.204948</td>\n",
       "      <td>0.183283</td>\n",
       "    </tr>\n",
       "    <tr>\n",
       "      <th>(0.0378, 0.0416]</th>\n",
       "      <td>0.163970</td>\n",
       "      <td>0.180855</td>\n",
       "    </tr>\n",
       "    <tr>\n",
       "      <th>(0.0416, 0.046]</th>\n",
       "      <td>0.150386</td>\n",
       "      <td>0.208540</td>\n",
       "    </tr>\n",
       "    <tr>\n",
       "      <th>(0.046, 0.0535]</th>\n",
       "      <td>0.154063</td>\n",
       "      <td>0.257009</td>\n",
       "    </tr>\n",
       "    <tr>\n",
       "      <th>(0.0535, 0.0657]</th>\n",
       "      <td>0.164147</td>\n",
       "      <td>0.279101</td>\n",
       "    </tr>\n",
       "    <tr>\n",
       "      <th>(0.0657, 0.0797]</th>\n",
       "      <td>0.174963</td>\n",
       "      <td>0.282997</td>\n",
       "    </tr>\n",
       "    <tr>\n",
       "      <th>(0.0797, 0.0977]</th>\n",
       "      <td>0.163576</td>\n",
       "      <td>0.285906</td>\n",
       "    </tr>\n",
       "    <tr>\n",
       "      <th>(0.0977, 0.437]</th>\n",
       "      <td>0.162190</td>\n",
       "      <td>0.416708</td>\n",
       "    </tr>\n",
       "  </tbody>\n",
       "</table>\n",
       "</div>"
      ],
      "text/plain": [
       "treatment_group           0         1\n",
       "quantiles                            \n",
       "(-0.229, -0.0121]  0.217493  0.063992\n",
       "(-0.0121, 0.0288]  0.238460  0.129188\n",
       "(0.0288, 0.0378]   0.204948  0.183283\n",
       "(0.0378, 0.0416]   0.163970  0.180855\n",
       "(0.0416, 0.046]    0.150386  0.208540\n",
       "(0.046, 0.0535]    0.154063  0.257009\n",
       "(0.0535, 0.0657]   0.164147  0.279101\n",
       "(0.0657, 0.0797]   0.174963  0.282997\n",
       "(0.0797, 0.0977]   0.163576  0.285906\n",
       "(0.0977, 0.437]    0.162190  0.416708"
      ]
     },
     "execution_count": 92,
     "metadata": {},
     "output_type": "execute_result"
    }
   ],
   "source": [
    "y_pred_df.pivot_table(index='quantiles', columns='treatment_group', values='conversion')"
   ]
  },
  {
   "cell_type": "code",
   "execution_count": 98,
   "metadata": {},
   "outputs": [
    {
     "data": {
      "text/plain": [
       "-0.012146129649857248"
      ]
     },
     "execution_count": 98,
     "metadata": {},
     "output_type": "execute_result"
    }
   ],
   "source": [
    "np.quantile(y_uplift_pred, 0.1)"
   ]
  },
  {
   "cell_type": "code",
   "execution_count": null,
   "metadata": {},
   "outputs": [],
   "source": []
  }
 ],
 "metadata": {
  "kernelspec": {
   "display_name": "Python 3.9.12 ('base')",
   "language": "python",
   "name": "python3"
  },
  "language_info": {
   "codemirror_mode": {
    "name": "ipython",
    "version": 3
   },
   "file_extension": ".py",
   "mimetype": "text/x-python",
   "name": "python",
   "nbconvert_exporter": "python",
   "pygments_lexer": "ipython3",
   "version": "3.9.13"
  },
  "orig_nbformat": 4,
  "vscode": {
   "interpreter": {
    "hash": "407d597c97e59e157ca6dce283ab8397407cf250dbf4bfa6d9f97b36067f084b"
   }
  }
 },
 "nbformat": 4,
 "nbformat_minor": 2
}
